{
 "cells": [
  {
   "cell_type": "markdown",
   "id": "34b3a5c2",
   "metadata": {},
   "source": [
    "Code from https://www.geeksforgeeks.org/n-gram-language-modelling-with-nltk/"
   ]
  },
  {
   "cell_type": "code",
   "execution_count": 87,
   "id": "689ce8ef",
   "metadata": {},
   "outputs": [
    {
     "name": "stderr",
     "output_type": "stream",
     "text": [
      "[nltk_data] Downloading package punkt to /Users/isabelc/nltk_data...\n",
      "[nltk_data]   Package punkt is already up-to-date!\n",
      "[nltk_data] Downloading package stopwords to\n",
      "[nltk_data]     /Users/isabelc/nltk_data...\n",
      "[nltk_data]   Package stopwords is already up-to-date!\n",
      "[nltk_data] Downloading package gutenberg to\n",
      "[nltk_data]     /Users/isabelc/nltk_data...\n",
      "[nltk_data]   Package gutenberg is already up-to-date!\n",
      "[nltk_data] Downloading package reuters to /Users/isabelc/nltk_data...\n",
      "[nltk_data]   Package reuters is already up-to-date!\n"
     ]
    }
   ],
   "source": [
    "# imports\n",
    "import string\n",
    "import random\n",
    "import nltk\n",
    "nltk.download('punkt')\n",
    "nltk.download('stopwords')\n",
    "nltk.download('gutenberg')\n",
    "nltk.download('reuters')\n",
    "from nltk.corpus import reuters\n",
    "from nltk.corpus import gutenberg, stopwords\n",
    "from nltk import FreqDist\n",
    "from nltk import ngrams\n",
    "from collections import defaultdict, Counter"
   ]
  },
  {
   "cell_type": "code",
   "execution_count": null,
   "id": "bf797035",
   "metadata": {},
   "outputs": [],
   "source": [
    "training_options = ['austen-emma.txt', \n",
    "                    'austen-persuasion.txt', \n",
    "                    'austen-sense.txt', \n",
    "                    'bible-kjv.txt',\n",
    "                    'blake-poems.txt', \n",
    "                    'bryant-stories.txt', \n",
    "                    'burgess-busterbrown.txt',\n",
    "                    'carroll-alice.txt', \n",
    "                    'chesterton-ball.txt', \n",
    "                    'chesterton-brown.txt',\n",
    "                    'chesterton-thursday.txt', \n",
    "                    'edgeworth-parents.txt', \n",
    "                    'melville-moby_dick.txt',\n",
    "                    'milton-paradise.txt', \n",
    "                    'shakespeare-caesar.txt', \n",
    "                    'shakespeare-hamlet.txt',\n",
    "                    'shakespeare-macbeth.txt', \n",
    "                    'whitman-leaves.txt']"
   ]
  },
  {
   "cell_type": "code",
   "execution_count": null,
   "id": "ce1a991b",
   "metadata": {},
   "outputs": [],
   "source": [
    "DATA = \"shakespeare-macbeth.txt\""
   ]
  },
  {
   "cell_type": "code",
   "execution_count": 88,
   "id": "98ae8954",
   "metadata": {},
   "outputs": [],
   "source": [
    "# input the gutenberg sentences\n",
    "sents =gutenberg.sents(DATA)\n",
    "\n",
    "# write the removal characters such as : Stopwords and punctuation\n",
    "stop_words = set(stopwords.words('english'))\n",
    "string.punctuation = string.punctuation +'\"'+'\"'+'-'+'''+'''+'—'\n",
    "string.punctuation\n",
    "removal_list = list(stop_words) + list(string.punctuation)+ ['lt','rt']"
   ]
  },
  {
   "cell_type": "code",
   "execution_count": 89,
   "id": "4b04e3fb",
   "metadata": {},
   "outputs": [
    {
     "data": {
      "text/plain": [
       "1907"
      ]
     },
     "execution_count": 89,
     "metadata": {},
     "output_type": "execute_result"
    }
   ],
   "source": [
    "len(gutenberg.sents(DATA))"
   ]
  },
  {
   "cell_type": "code",
   "execution_count": 90,
   "id": "08ef250a",
   "metadata": {},
   "outputs": [],
   "source": [
    "# generate unigrams bigrams trigrams\n",
    "unigram=[]\n",
    "bigram=[]\n",
    "\n",
    "tokenized_text=[]\n",
    "for sentence in sents:\n",
    "    sentence = list(map(lambda x:x.lower(),sentence))\n",
    "    for word in sentence:\n",
    "        if word== '.':\n",
    "            sentence.remove(word)\n",
    "        else:\n",
    "            unigram.append(word)\n",
    "\n",
    "    tokenized_text.append(sentence)\n",
    "    bigram.extend(list(ngrams(sentence, 2,pad_left=True, pad_right=True)))\n",
    "\n",
    "# remove the n-grams with removable words\n",
    "def remove_stopwords(x):\n",
    "    y = []\n",
    "    for pair in x:\n",
    "        count = 0\n",
    "        for word in pair:\n",
    "            if word in removal_list:\n",
    "                count = count or 0\n",
    "            else:\n",
    "                count = count or 1\n",
    "            if (count==1):\n",
    "                y.append(pair)\n",
    "    return (y)\n",
    "\n",
    "unigram = remove_stopwords(unigram)\n",
    "bigram = remove_stopwords(bigram)"
   ]
  },
  {
   "cell_type": "code",
   "execution_count": 91,
   "id": "ab09204a",
   "metadata": {},
   "outputs": [],
   "source": [
    "# generate frequency of n-grams\n",
    "freq_bi = FreqDist(bigram)"
   ]
  },
  {
   "cell_type": "code",
   "execution_count": 92,
   "id": "24e24c26",
   "metadata": {},
   "outputs": [],
   "source": [
    "d = defaultdict(Counter)\n",
    "for a, b in freq_bi:\n",
    "    if(a != None and b!= None):\n",
    "        d[a][b] += freq_bi[a, b]"
   ]
  },
  {
   "cell_type": "code",
   "execution_count": 94,
   "id": "35f5021b",
   "metadata": {},
   "outputs": [
    {
     "name": "stdout",
     "output_type": "stream",
     "text": [
      "he within\n",
      "he within this\n",
      "he within this way\n",
      "he within this way with\n",
      "he within this way with wormes\n",
      "he within this way with wormes sting\n",
      "he within this way with wormes sting ,\n",
      "he within this way with wormes sting , youl\n",
      "he within this way with wormes sting , youl '\n",
      "he within this way with wormes sting , youl ' worst\n",
      "he within this way with wormes sting , youl ' worst will\n",
      "he within this way with wormes sting , youl ' worst will venom\n",
      "he within this way with wormes sting , youl ' worst will venom sleeping\n",
      "he within this way with wormes sting , youl ' worst will venom sleeping got\n",
      "he within this way with wormes sting , youl ' worst will venom sleeping got without\n",
      "he within this way with wormes sting , youl ' worst will venom sleeping got without there\n",
      "he within this way with wormes sting , youl ' worst will venom sleeping got without there would\n",
      "he within this way with wormes sting , youl ' worst will venom sleeping got without there would well\n",
      "he within this way with wormes sting , youl ' worst will venom sleeping got without there would well too\n"
     ]
    }
   ],
   "source": [
    "# Next word prediction\n",
    "\n",
    "def pick_random_word(counter):\n",
    "    \"Chooses a random element.\"\n",
    "    return random.choice(list(counter.elements()))\n",
    "\n",
    "def pick_most_freq_word(counter):\n",
    "    \"Chooses a random element.\"\n",
    "    return max(counter)\n"
   ]
  },
  {
   "cell_type": "code",
   "execution_count": 95,
   "id": "edc74774",
   "metadata": {},
   "outputs": [
    {
     "name": "stdout",
     "output_type": "stream",
     "text": [
      "he mine\n",
      "he mine :\n",
      "he mine : marry\n",
      "he mine : marry he\n",
      "he mine : marry he leaues\n",
      "he mine : marry he leaues him\n",
      "he mine : marry he leaues him buriall\n",
      "he mine : marry he leaues him buriall of\n",
      "he mine : marry he leaues him buriall of thee\n",
      "he mine : marry he leaues him buriall of thee the\n",
      "he mine : marry he leaues him buriall of thee the interim\n",
      "he mine : marry he leaues him buriall of thee the interim hauing\n",
      "he mine : marry he leaues him buriall of thee the interim hauing weigh\n",
      "he mine : marry he leaues him buriall of thee the interim hauing weigh '\n",
      "he mine : marry he leaues him buriall of thee the interim hauing weigh ' dst\n",
      "he mine : marry he leaues him buriall of thee the interim hauing weigh ' dst neuer\n",
      "he mine : marry he leaues him buriall of thee the interim hauing weigh ' dst neuer call\n",
      "he mine : marry he leaues him buriall of thee the interim hauing weigh ' dst neuer call '\n",
      "he mine : marry he leaues him buriall of thee the interim hauing weigh ' dst neuer call ' ry\n"
     ]
    }
   ],
   "source": [
    "prefix = (\"he\")\n",
    "s = prefix\n",
    "\n",
    "for i in range(19):\n",
    "    suffix = pick_random_word(d[prefix])\n",
    "    s=s+' '+suffix\n",
    "    print(s)\n",
    "    prefix = suffix"
   ]
  },
  {
   "cell_type": "code",
   "execution_count": 96,
   "id": "fc46d86a",
   "metadata": {},
   "outputs": [
    {
     "name": "stdout",
     "output_type": "stream",
     "text": [
      "he within\n",
      "he within this\n",
      "he within this way\n",
      "he within this way with\n",
      "he within this way with wormes\n",
      "he within this way with wormes sting\n",
      "he within this way with wormes sting ,\n",
      "he within this way with wormes sting , youl\n",
      "he within this way with wormes sting , youl '\n",
      "he within this way with wormes sting , youl ' worst\n",
      "he within this way with wormes sting , youl ' worst will\n",
      "he within this way with wormes sting , youl ' worst will venom\n",
      "he within this way with wormes sting , youl ' worst will venom sleeping\n",
      "he within this way with wormes sting , youl ' worst will venom sleeping got\n",
      "he within this way with wormes sting , youl ' worst will venom sleeping got without\n",
      "he within this way with wormes sting , youl ' worst will venom sleeping got without there\n",
      "he within this way with wormes sting , youl ' worst will venom sleeping got without there would\n",
      "he within this way with wormes sting , youl ' worst will venom sleeping got without there would well\n",
      "he within this way with wormes sting , youl ' worst will venom sleeping got without there would well too\n"
     ]
    }
   ],
   "source": [
    "prefix = (\"he\")\n",
    "s = prefix\n",
    "\n",
    "for i in range(19):\n",
    "    suffix = pick_most_freq_word(d[prefix])\n",
    "    s=s+' '+suffix\n",
    "    print(s)\n",
    "    prefix = suffix"
   ]
  }
 ],
 "metadata": {
  "kernelspec": {
   "display_name": "Python 3 (ipykernel)",
   "language": "python",
   "name": "python3"
  },
  "language_info": {
   "codemirror_mode": {
    "name": "ipython",
    "version": 3
   },
   "file_extension": ".py",
   "mimetype": "text/x-python",
   "name": "python",
   "nbconvert_exporter": "python",
   "pygments_lexer": "ipython3",
   "version": "3.9.12"
  }
 },
 "nbformat": 4,
 "nbformat_minor": 5
}
